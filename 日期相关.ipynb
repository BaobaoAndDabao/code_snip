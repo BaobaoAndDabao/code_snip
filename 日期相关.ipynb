{
 "cells": [
  {
   "cell_type": "code",
   "execution_count": 4,
   "id": "7b919444",
   "metadata": {},
   "outputs": [],
   "source": [
    "import calendar\n",
    "import datetime "
   ]
  },
  {
   "cell_type": "code",
   "execution_count": 12,
   "id": "92ac3b20",
   "metadata": {},
   "outputs": [],
   "source": [
    "# 获取日期的月底日期\n",
    "def get_last_day(cur_date):\n",
    "    year = cur_date.year \n",
    "    month = cur_date.month \n",
    "    # 当月的第一天是周几,这个月有几天\n",
    "    week_day_of_first_day,date_number = calendar.monthrange(year,month)\n",
    "    return datetime.date(year,month,date_number)"
   ]
  },
  {
   "cell_type": "code",
   "execution_count": 10,
   "id": "019591aa",
   "metadata": {},
   "outputs": [
    {
     "data": {
      "text/plain": [
       "datetime.date(2023, 1, 2)"
      ]
     },
     "execution_count": 10,
     "metadata": {},
     "output_type": "execute_result"
    }
   ],
   "source": [
    "# 获取当前天\n",
    "cur_date = datetime.date.today()\n",
    "cur_date"
   ]
  },
  {
   "cell_type": "code",
   "execution_count": 11,
   "id": "834c77c2",
   "metadata": {},
   "outputs": [
    {
     "data": {
      "text/plain": [
       "datetime.date(2023, 1, 31)"
      ]
     },
     "execution_count": 11,
     "metadata": {},
     "output_type": "execute_result"
    }
   ],
   "source": [
    "get_last_day(cur_date)"
   ]
  },
  {
   "cell_type": "code",
   "execution_count": null,
   "id": "fe0abaa7",
   "metadata": {},
   "outputs": [],
   "source": []
  },
  {
   "cell_type": "code",
   "execution_count": null,
   "id": "f48e38c8",
   "metadata": {},
   "outputs": [],
   "source": []
  },
  {
   "cell_type": "code",
   "execution_count": null,
   "id": "a607ab23",
   "metadata": {},
   "outputs": [],
   "source": []
  },
  {
   "cell_type": "code",
   "execution_count": null,
   "id": "be13ed1e",
   "metadata": {},
   "outputs": [],
   "source": []
  },
  {
   "cell_type": "code",
   "execution_count": null,
   "id": "c7a21a65",
   "metadata": {},
   "outputs": [],
   "source": []
  }
 ],
 "metadata": {
  "kernelspec": {
   "display_name": "Python 3 (ipykernel)",
   "language": "python",
   "name": "python3"
  },
  "language_info": {
   "codemirror_mode": {
    "name": "ipython",
    "version": 3
   },
   "file_extension": ".py",
   "mimetype": "text/x-python",
   "name": "python",
   "nbconvert_exporter": "python",
   "pygments_lexer": "ipython3",
   "version": "3.8.12"
  }
 },
 "nbformat": 4,
 "nbformat_minor": 5
}
